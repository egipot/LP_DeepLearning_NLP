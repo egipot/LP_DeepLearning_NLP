{
  "nbformat": 4,
  "nbformat_minor": 0,
  "metadata": {
    "colab": {
      "provenance": [],
      "authorship_tag": "ABX9TyMHqv8RHmQ6o+G+g/uFnRq+",
      "include_colab_link": true
    },
    "kernelspec": {
      "name": "python3",
      "display_name": "Python 3"
    },
    "language_info": {
      "name": "python"
    }
  },
  "cells": [
    {
      "cell_type": "markdown",
      "metadata": {
        "id": "view-in-github",
        "colab_type": "text"
      },
      "source": [
        "<a href=\"https://colab.research.google.com/github/egipot/LP_DeepLearning_NLP/blob/main/1_4_pretrained_word_from_GloVe.ipynb\" target=\"_parent\"><img src=\"https://colab.research.google.com/assets/colab-badge.svg\" alt=\"Open In Colab\"/></a>"
      ]
    },
    {
      "cell_type": "code",
      "source": [
        "# https://deeplearningcourses.com/c/data-science-natural-language-processing-in-python\n",
        "# https://www.udemy.com/data-science-natural-language-processing-in-python\n",
        "\n",
        "# Author: http://lazyprogrammer.me\n",
        "from __future__ import print_function, division\n",
        "from future.utils import iteritems\n",
        "from builtins import range\n",
        "# Note: you may need to update your version of future\n",
        "# sudo pip install -U future\n"
      ],
      "metadata": {
        "id": "2rULVwwXc-0A"
      },
      "execution_count": 34,
      "outputs": []
    },
    {
      "cell_type": "code",
      "source": [
        "# WHERE TO GET THE VECTORS:\n",
        "# GloVe: https://nlp.stanford.edu/projects/glove/\n",
        "# Direct link: http://nlp.stanford.edu/data/glove.6B.zip\n",
        "\n",
        "import numpy as np\n",
        "from sklearn.metrics.pairwise import pairwise_distances\n",
        "\n",
        "\n",
        "def dist1(a, b):\n",
        "    return np.linalg.norm(a - b)\n",
        "def dist2(a, b):\n",
        "    return 1 - a.dot(b) / (np.linalg.norm(a) * np.linalg.norm(b))\n"
      ],
      "metadata": {
        "id": "QMmNFccndHpq"
      },
      "execution_count": 35,
      "outputs": []
    },
    {
      "cell_type": "code",
      "source": [
        "\n",
        "# pick a distance type\n",
        "dist, metric = dist2, 'cosine'\n",
        "# dist, metric = dist1, 'euclidean'\n",
        "\n",
        "\n",
        "## more intuitive\n",
        "# def find_analogies(w1, w2, w3):\n",
        "#   for w in (w1, w2, w3):\n",
        "#     if w not in word2vec:\n",
        "#       print(\"%s not in dictionary\" % w)\n",
        "#       return\n",
        "\n",
        "#   king = word2vec[w1]\n",
        "#   man = word2vec[w2]\n",
        "#   woman = word2vec[w3]\n",
        "#   v0 = king - man + woman\n",
        "\n",
        "#   min_dist = float('inf')\n",
        "#   best_word = ''\n",
        "#   for word, v1 in iteritems(word2vec):\n",
        "#     if word not in (w1, w2, w3):\n",
        "#       d = dist(v0, v1)\n",
        "#       if d < min_dist:\n",
        "#         min_dist = d\n",
        "#         best_word = word\n",
        "#   print(w1, \"-\", w2, \"=\", best_word, \"-\", w3)\n",
        "\n",
        "\n",
        "## faster\n",
        "def find_analogies(w1, w2, w3):\n",
        "  for w in (w1, w2, w3):\n",
        "    if w not in word2vec:\n",
        "      print(\"%s not in dictionary\" % w)\n",
        "      return\n",
        "\n",
        "  king = word2vec[w1]\n",
        "  man = word2vec[w2]\n",
        "  woman = word2vec[w3]\n",
        "  v0 = king - man + woman\n",
        "\n",
        "  distances = pairwise_distances(v0.reshape(1, D), embedding, metric=metric).reshape(V)\n",
        "  idxs = distances.argsort()[:4]\n",
        "  for idx in idxs:\n",
        "    word = idx2word[idx]\n",
        "    if word not in (w1, w2, w3):\n",
        "      best_word = word\n",
        "      break\n",
        "\n",
        "  print(w1, \"-\", w2, \"=\", best_word, \"-\", w3)\n",
        "\n",
        "\n",
        "def nearest_neighbors(w, n=5):\n",
        "  if w not in word2vec:\n",
        "    print(\"%s not in dictionary:\" % w)\n",
        "    return\n",
        "\n",
        "  v = word2vec[w]\n",
        "  distances = pairwise_distances(v.reshape(1, D), embedding, metric=metric).reshape(V)\n",
        "  idxs = distances.argsort()[1:n+1]\n",
        "  print(\"neighbors of: %s\" % w)\n",
        "  for idx in idxs:\n",
        "    print(\"\\t%s\" % idx2word[idx])\n",
        "\n"
      ],
      "metadata": {
        "id": "G7Y4PsiVdP8S"
      },
      "execution_count": 36,
      "outputs": []
    },
    {
      "cell_type": "markdown",
      "source": [
        "upload glove.6B.50d.txt for simplified retrieval..."
      ],
      "metadata": {
        "id": "2cgeobGdoBkr"
      }
    },
    {
      "cell_type": "code",
      "source": [
        "source_file =  r'/content/glove.6B.50d.txt'"
      ],
      "metadata": {
        "id": "G4OIzr6EfbO_"
      },
      "execution_count": 48,
      "outputs": []
    },
    {
      "cell_type": "code",
      "source": [
        "!ls {source_file}  # Should print the filename if it exists"
      ],
      "metadata": {
        "colab": {
          "base_uri": "https://localhost:8080/"
        },
        "id": "cWyBOLgfj1E9",
        "outputId": "0c239533-9c70-4c48-ca5c-4080fb4e2245"
      },
      "execution_count": 49,
      "outputs": [
        {
          "output_type": "stream",
          "name": "stdout",
          "text": [
            "/content/glove.6B.50d.txt\n"
          ]
        }
      ]
    },
    {
      "cell_type": "code",
      "source": [
        "#print first line just for checking...\n",
        "with open(source_file) as f:\n",
        "    first_line = f.readline().strip('\\n')\n",
        "print(first_line)"
      ],
      "metadata": {
        "colab": {
          "base_uri": "https://localhost:8080/"
        },
        "id": "XdcMr1zajCty",
        "outputId": "012a0458-4cdc-40be-95d2-ca7b473750ca"
      },
      "execution_count": 51,
      "outputs": [
        {
          "output_type": "stream",
          "name": "stdout",
          "text": [
            "the 0.418 0.24968 -0.41242 0.1217 0.34527 -0.044457 -0.49688 -0.17862 -0.00066023 -0.6566 0.27843 -0.14767 -0.55677 0.14658 -0.0095095 0.011658 0.10204 -0.12792 -0.8443 -0.12181 -0.016801 -0.33279 -0.1552 -0.23131 -0.19181 -1.8823 -0.76746 0.099051 -0.42125 -0.19526 4.0071 -0.18594 -0.52287 -0.31681 0.00059213 0.0074449 0.17778 -0.15897 0.012041 -0.054223 -0.29871 -0.15749 -0.34758 -0.045637 -0.44251 0.18785 0.0027849 -0.18411 -0.11514 -0.78581\n"
          ]
        }
      ]
    },
    {
      "cell_type": "code",
      "execution_count": 52,
      "metadata": {
        "colab": {
          "base_uri": "https://localhost:8080/"
        },
        "id": "VccGJ0OwcoVj",
        "outputId": "b85e317b-95ed-4a49-ddf0-545dad3e2c36"
      },
      "outputs": [
        {
          "output_type": "stream",
          "name": "stdout",
          "text": [
            "Loading word vectors...\n",
            "Found 400000 word vectors.\n"
          ]
        }
      ],
      "source": [
        "# load in pre-trained word vectors\n",
        "print('Loading word vectors...')\n",
        "word2vec = {}\n",
        "embedding = []\n",
        "idx2word = []\n",
        "with open(source_file, encoding='utf-8') as f:\n",
        "  # is just a space-separated text file in the format:\n",
        "  # word vec[0] vec[1] vec[2] ...\n",
        "  for line in f:\n",
        "    values = line.split()\n",
        "    word = values[0]\n",
        "    vec = np.asarray(values[1:], dtype='float32')\n",
        "    word2vec[word] = vec\n",
        "    embedding.append(vec)\n",
        "    idx2word.append(word)\n",
        "print('Found %s word vectors.' % len(word2vec))\n",
        "embedding = np.array(embedding)\n",
        "V, D = embedding.shape\n",
        "\n"
      ]
    },
    {
      "cell_type": "code",
      "source": [
        "find_analogies('king', 'man', 'woman')"
      ],
      "metadata": {
        "colab": {
          "base_uri": "https://localhost:8080/"
        },
        "id": "FEBUPfOqnvgY",
        "outputId": "92757785-6298-4f55-88f0-d8c85d957de8"
      },
      "execution_count": 53,
      "outputs": [
        {
          "output_type": "stream",
          "name": "stdout",
          "text": [
            "king - man = queen - woman\n"
          ]
        }
      ]
    },
    {
      "cell_type": "code",
      "source": [
        "find_analogies('man', 'woman', 'she')"
      ],
      "metadata": {
        "colab": {
          "base_uri": "https://localhost:8080/"
        },
        "id": "kqFXe7e5nveg",
        "outputId": "17af82d4-4724-4be3-c2af-4daf50187979"
      },
      "execution_count": 54,
      "outputs": [
        {
          "output_type": "stream",
          "name": "stdout",
          "text": [
            "man - woman = he - she\n"
          ]
        }
      ]
    },
    {
      "cell_type": "code",
      "source": [
        "find_analogies('france', 'paris', 'london')\n",
        "find_analogies('france', 'paris', 'rome')\n",
        "find_analogies('paris', 'france', 'italy')\n",
        "find_analogies('france', 'french', 'english')\n",
        "find_analogies('japan', 'japanese', 'chinese')\n",
        "find_analogies('japan', 'japanese', 'italian')\n",
        "find_analogies('japan', 'japanese', 'australian')\n",
        "find_analogies('december', 'november', 'june')\n",
        "find_analogies('miami', 'florida', 'texas')\n",
        "find_analogies('einstein', 'scientist', 'painter')\n",
        "find_analogies('china', 'rice', 'bread')\n",
        "find_analogies('man', 'woman', 'aunt')\n",
        "find_analogies('man', 'woman', 'sister')\n",
        "find_analogies('man', 'woman', 'wife')\n",
        "find_analogies('man', 'woman', 'actress')\n",
        "find_analogies('man', 'woman', 'mother')\n",
        "find_analogies('heir', 'heiress', 'princess')\n",
        "find_analogies('nephew', 'niece', 'aunt')\n",
        "find_analogies('france', 'paris', 'tokyo')\n",
        "find_analogies('france', 'paris', 'beijing')\n",
        "find_analogies('february', 'january', 'november')\n",
        "find_analogies('france', 'paris', 'rome')\n",
        "find_analogies('paris', 'france', 'italy')\n",
        "\n",
        "\n"
      ],
      "metadata": {
        "id": "QFZleAh9c9pz",
        "colab": {
          "base_uri": "https://localhost:8080/"
        },
        "outputId": "23a63d34-075d-46c1-ad85-daa8d77b998c"
      },
      "execution_count": 55,
      "outputs": [
        {
          "output_type": "stream",
          "name": "stdout",
          "text": [
            "france - paris = britain - london\n",
            "france - paris = italy - rome\n",
            "paris - france = rome - italy\n",
            "france - french = england - english\n",
            "japan - japanese = china - chinese\n",
            "japan - japanese = italy - italian\n",
            "japan - japanese = australia - australian\n",
            "december - november = july - june\n",
            "miami - florida = houston - texas\n",
            "einstein - scientist = matisse - painter\n",
            "china - rice = chinese - bread\n",
            "man - woman = uncle - aunt\n",
            "man - woman = brother - sister\n",
            "man - woman = friend - wife\n",
            "man - woman = actor - actress\n",
            "man - woman = father - mother\n",
            "heir - heiress = queen - princess\n",
            "nephew - niece = uncle - aunt\n",
            "france - paris = japan - tokyo\n",
            "france - paris = china - beijing\n",
            "february - january = october - november\n",
            "france - paris = italy - rome\n",
            "paris - france = rome - italy\n"
          ]
        }
      ]
    },
    {
      "cell_type": "code",
      "source": [
        "nearest_neighbors('woman')"
      ],
      "metadata": {
        "colab": {
          "base_uri": "https://localhost:8080/"
        },
        "id": "NHZQRd3Vn6Pt",
        "outputId": "220fc3e8-fb46-44fb-cf82-b884f985a2af"
      },
      "execution_count": 56,
      "outputs": [
        {
          "output_type": "stream",
          "name": "stdout",
          "text": [
            "neighbors of: woman\n",
            "\tgirl\n",
            "\tman\n",
            "\tmother\n",
            "\ther\n",
            "\tboy\n"
          ]
        }
      ]
    },
    {
      "cell_type": "code",
      "source": [
        "nearest_neighbors('king')\n",
        "nearest_neighbors('france')\n",
        "nearest_neighbors('japan')\n",
        "nearest_neighbors('einstein')\n",
        "nearest_neighbors('nephew')\n",
        "nearest_neighbors('february')\n",
        "nearest_neighbors('rome')"
      ],
      "metadata": {
        "colab": {
          "base_uri": "https://localhost:8080/"
        },
        "id": "oypQZvm8n4Gl",
        "outputId": "a770c7c9-df20-424f-8e38-c064f7b2fe86"
      },
      "execution_count": 57,
      "outputs": [
        {
          "output_type": "stream",
          "name": "stdout",
          "text": [
            "neighbors of: king\n",
            "\tprince\n",
            "\tqueen\n",
            "\tii\n",
            "\temperor\n",
            "\tson\n",
            "neighbors of: france\n",
            "\tfrench\n",
            "\tbelgium\n",
            "\tparis\n",
            "\tspain\n",
            "\tnetherlands\n",
            "neighbors of: japan\n",
            "\tjapanese\n",
            "\tchina\n",
            "\tkorea\n",
            "\ttokyo\n",
            "\ttaiwan\n",
            "neighbors of: einstein\n",
            "\trelativity\n",
            "\tbohr\n",
            "\tphysics\n",
            "\theisenberg\n",
            "\tfreud\n",
            "neighbors of: nephew\n",
            "\tcousin\n",
            "\tbrother\n",
            "\tgrandson\n",
            "\tson\n",
            "\tuncle\n",
            "neighbors of: february\n",
            "\toctober\n",
            "\tdecember\n",
            "\tjanuary\n",
            "\taugust\n",
            "\tseptember\n",
            "neighbors of: rome\n",
            "\tnaples\n",
            "\tvenice\n",
            "\titaly\n",
            "\tturin\n",
            "\tpope\n"
          ]
        }
      ]
    },
    {
      "cell_type": "code",
      "source": [
        "#own test\n",
        "\n",
        "find_analogies('sofia', 'bulgaria', 'philippines')"
      ],
      "metadata": {
        "colab": {
          "base_uri": "https://localhost:8080/"
        },
        "id": "_t_sgsgmpC3j",
        "outputId": "3c588e3c-deb4-489e-e650-b0d66fd263be"
      },
      "execution_count": 58,
      "outputs": [
        {
          "output_type": "stream",
          "name": "stdout",
          "text": [
            "sofia - bulgaria = manila - philippines\n"
          ]
        }
      ]
    },
    {
      "cell_type": "code",
      "source": [
        "find_analogies('polish', 'Poland', 'Bulgaria' )"
      ],
      "metadata": {
        "colab": {
          "base_uri": "https://localhost:8080/"
        },
        "id": "XJN_7kfwpmVl",
        "outputId": "d661b8be-daa9-41a4-fbae-ce991193576f"
      },
      "execution_count": 59,
      "outputs": [
        {
          "output_type": "stream",
          "name": "stdout",
          "text": [
            "Poland not in dictionary\n"
          ]
        }
      ]
    },
    {
      "cell_type": "code",
      "source": [
        "find_analogies('polish', 'poland', 'bulgaria' )"
      ],
      "metadata": {
        "colab": {
          "base_uri": "https://localhost:8080/"
        },
        "id": "sokZB-88puQ9",
        "outputId": "3ccbbab5-0275-4762-9fb5-3bc44fc560d5"
      },
      "execution_count": 60,
      "outputs": [
        {
          "output_type": "stream",
          "name": "stdout",
          "text": [
            "polish - poland = bulgarian - bulgaria\n"
          ]
        }
      ]
    },
    {
      "cell_type": "code",
      "source": [
        "find_analogies ('rakia', 'bulgaria', 'hungary')"
      ],
      "metadata": {
        "colab": {
          "base_uri": "https://localhost:8080/"
        },
        "id": "ONV__5e5pyfU",
        "outputId": "c1d12a38-c4bf-4f32-81c8-98c8da8250a3"
      },
      "execution_count": 61,
      "outputs": [
        {
          "output_type": "stream",
          "name": "stdout",
          "text": [
            "rakia - bulgaria = makanda - hungary\n"
          ]
        }
      ]
    },
    {
      "cell_type": "code",
      "source": [
        "find_analogies ('rakia', 'bulgaria', 'poland')"
      ],
      "metadata": {
        "colab": {
          "base_uri": "https://localhost:8080/"
        },
        "id": "lwdqU6spp72v",
        "outputId": "a6db75a3-af4e-4f3f-9924-1b0170567352"
      },
      "execution_count": 63,
      "outputs": [
        {
          "output_type": "stream",
          "name": "stdout",
          "text": [
            "rakia - bulgaria = melsungen - poland\n"
          ]
        }
      ]
    },
    {
      "cell_type": "code",
      "source": [
        "find_analogies ('rakia', 'bulgaria', 'philippines')"
      ],
      "metadata": {
        "colab": {
          "base_uri": "https://localhost:8080/"
        },
        "id": "n-mTtThDqDHr",
        "outputId": "32e6368c-bdf5-4b53-fa9a-933e17218a98"
      },
      "execution_count": 64,
      "outputs": [
        {
          "output_type": "stream",
          "name": "stdout",
          "text": [
            "rakia - bulgaria = dactylorhiza - philippines\n"
          ]
        }
      ]
    },
    {
      "cell_type": "code",
      "source": [
        "find_analogies ('bulgarian', 'bulgaria', 'philippines')"
      ],
      "metadata": {
        "colab": {
          "base_uri": "https://localhost:8080/"
        },
        "id": "2jIL9Qzyp92L",
        "outputId": "1f3db8a3-33e6-4b00-a420-ee1392f8046b"
      },
      "execution_count": 65,
      "outputs": [
        {
          "output_type": "stream",
          "name": "stdout",
          "text": [
            "bulgarian - bulgaria = philippine - philippines\n"
          ]
        }
      ]
    },
    {
      "cell_type": "code",
      "source": [
        "nearest_neighbors('rakia')"
      ],
      "metadata": {
        "colab": {
          "base_uri": "https://localhost:8080/"
        },
        "id": "ab9uMfYCqLFi",
        "outputId": "57d5683b-02d7-49f5-c959-a2f341bb9ac0"
      },
      "execution_count": 66,
      "outputs": [
        {
          "output_type": "stream",
          "name": "stdout",
          "text": [
            "neighbors of: rakia\n",
            "\tmakanda\n",
            "\tnaem\n",
            "\twallum\n",
            "\tasbjorn\n",
            "\trataje\n"
          ]
        }
      ]
    },
    {
      "cell_type": "code",
      "source": [
        "nearest_neighbors('philippines')"
      ],
      "metadata": {
        "colab": {
          "base_uri": "https://localhost:8080/"
        },
        "id": "UrOtHxIbqO7-",
        "outputId": "4b9b0d3d-1523-4d92-de80-e768289729c9"
      },
      "execution_count": 67,
      "outputs": [
        {
          "output_type": "stream",
          "name": "stdout",
          "text": [
            "neighbors of: philippines\n",
            "\tindonesia\n",
            "\tphilippine\n",
            "\tthailand\n",
            "\tperu\n",
            "\tmanila\n"
          ]
        }
      ]
    },
    {
      "cell_type": "code",
      "source": [
        "nearest_neighbors('bulgaria')"
      ],
      "metadata": {
        "colab": {
          "base_uri": "https://localhost:8080/"
        },
        "id": "ezua3NfSqRHR",
        "outputId": "b964a24d-4ab1-47bf-9520-cc469a917655"
      },
      "execution_count": 68,
      "outputs": [
        {
          "output_type": "stream",
          "name": "stdout",
          "text": [
            "neighbors of: bulgaria\n",
            "\tromania\n",
            "\thungary\n",
            "\tlithuania\n",
            "\tukraine\n",
            "\tlatvia\n"
          ]
        }
      ]
    },
    {
      "cell_type": "code",
      "source": [
        "nearest_neighbors('moussaka')"
      ],
      "metadata": {
        "colab": {
          "base_uri": "https://localhost:8080/"
        },
        "id": "EkuEH5SGtWzp",
        "outputId": "8e8858a5-d28e-4755-afc8-5c32e063eaa4"
      },
      "execution_count": 69,
      "outputs": [
        {
          "output_type": "stream",
          "name": "stdout",
          "text": [
            "neighbors of: moussaka\n",
            "\tspanakopita\n",
            "\tcaponata\n",
            "\tsauerbraten\n",
            "\tomelettes\n",
            "\tfrittatas\n"
          ]
        }
      ]
    }
  ]
}